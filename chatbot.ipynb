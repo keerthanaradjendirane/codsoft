{
 "cells": [
  {
   "cell_type": "code",
   "execution_count": 1,
   "id": "3d1ac38c",
   "metadata": {},
   "outputs": [],
   "source": [
    "import re\n",
    "import random\n",
    "import nltk\n",
    "from nltk.tokenize import word_tokenize\n",
    "from nltk.corpus import stopwords\n",
    "from nltk.stem import PorterStemmer"
   ]
  },
  {
   "cell_type": "code",
   "execution_count": 2,
   "id": "3de27a2f",
   "metadata": {},
   "outputs": [
    {
     "name": "stderr",
     "output_type": "stream",
     "text": [
      "[nltk_data] Downloading package punkt to\n",
      "[nltk_data]     C:\\Users\\keerthana\\AppData\\Roaming\\nltk_data...\n",
      "[nltk_data]   Unzipping tokenizers\\punkt.zip.\n",
      "[nltk_data] Downloading package stopwords to\n",
      "[nltk_data]     C:\\Users\\keerthana\\AppData\\Roaming\\nltk_data...\n",
      "[nltk_data]   Unzipping corpora\\stopwords.zip.\n"
     ]
    },
    {
     "data": {
      "text/plain": [
       "True"
      ]
     },
     "execution_count": 2,
     "metadata": {},
     "output_type": "execute_result"
    }
   ],
   "source": [
    "nltk.download('punkt')\n",
    "nltk.download('stopwords')"
   ]
  },
  {
   "cell_type": "code",
   "execution_count": 3,
   "id": "c0002d8f",
   "metadata": {},
   "outputs": [],
   "source": [
    "def preprocess_input(user_input):\n",
    "    # Tokenize input\n",
    "    tokens = word_tokenize(user_input)\n",
    "    stop_words = set(stopwords.words('english'))\n",
    "    tokens = [token for token in tokens if token.lower() not in stop_words]\n",
    "    stemmer = PorterStemmer()\n",
    "    tokens = [stemmer.stem(token) for token in tokens]\n",
    "    return tokens"
   ]
  },
  {
   "cell_type": "code",
   "execution_count": 4,
   "id": "3f14729f",
   "metadata": {},
   "outputs": [],
   "source": [
    "patterns_and_responses = [\n",
    "    (r'hi|hello|hey', ['Hello!', 'Hi there!', 'Hey!']),\n",
    "    (r'how are you', ['I am doing well, thank you!', 'Great! How about you?']),\n",
    "    (r'what is your name', ['I am a chatbot. You can call me NILA']),\n",
    "    (r'bye|goodbye', ['Goodbye!', 'See you later!', 'Bye!']),\n",
    "    (r'(.*) your name(.*)', ['I am a chatbot. You can call me ']),\n",
    "    (r'(.*) (weather|temperature) (.*)', ['I am sorry, I cannot provide real-time weather information.']),\n",
    "    (r'how can you help', ['I can assist you with information, answer questions, and have a conversation with you.']),\n",
    "    (r'tell me a joke', ['Why did the scarecrow win an award? Because he was outstanding in his field!']),\n",
    "    (r'(.*) (love|like) (.*)', ['Love is a wonderful thing!']),\n",
    "    (r'(.*) (how|what|when|where|why) (.*)', ['Im not sure, can you provide more details?', 'I would need more information to answer that.']),\n",
    "    (r'(.*) (your favorite|best) (.*)', ['I don\\'t have preferences, but I am here to assist you!']),\n",
    "    (r'(.*) (thanks|thank you) (.*)', ['You\\'re welcome!', 'Anytime!']),\n",
    "]"
   ]
  },
  {
   "cell_type": "code",
   "execution_count": 5,
   "id": "ca59e9e5",
   "metadata": {},
   "outputs": [],
   "source": [
    "def respond_to_input(user_input):\n",
    "    user_input = user_input.lower()\n",
    "    tokens = preprocess_input(user_input)\n",
    "    \n",
    "    for pattern, responses in patterns_and_responses:\n",
    "        if re.match(pattern, user_input):\n",
    "            return random.choice(responses)\n",
    "    \n",
    "    return \"I'm sorry, I don't understand that.\""
   ]
  },
  {
   "cell_type": "code",
   "execution_count": 6,
   "id": "859289de",
   "metadata": {},
   "outputs": [
    {
     "name": "stdout",
     "output_type": "stream",
     "text": [
      "Chatbot: Hi! How can I help you today?\n",
      "You: hi\n",
      "Chatbot: Hi there!\n",
      "You: what is your name\n",
      "Chatbot: I am a chatbot. You can call me NILA\n",
      "You: how can you help\n",
      "Chatbot: I can assist you with information, answer questions, and have a conversation with you.\n",
      "You: tell me a joke\n",
      "Chatbot: Why did the scarecrow win an award? Because he was outstanding in his field!\n",
      "You: thank you\n",
      "Chatbot: I'm sorry, I don't understand that.\n",
      "You: bye\n",
      "Chatbot: Goodbye!\n"
     ]
    }
   ],
   "source": [
    "if __name__ == \"__main__\":\n",
    "    print(\"Chatbot: Hi! How can I help you today?\")\n",
    "    \n",
    "    while True:\n",
    "        user_input = input(\"You: \")\n",
    "        if user_input.lower() in ['exit', 'quit', 'bye']:\n",
    "            print(\"Chatbot: Goodbye!\")\n",
    "            break\n",
    "        \n",
    "        response = respond_to_input(user_input)\n",
    "        print(\"Chatbot:\", response)"
   ]
  },
  {
   "cell_type": "code",
   "execution_count": null,
   "id": "3d5e0c90",
   "metadata": {},
   "outputs": [],
   "source": []
  }
 ],
 "metadata": {
  "kernelspec": {
   "display_name": "Python 3 (ipykernel)",
   "language": "python",
   "name": "python3"
  },
  "language_info": {
   "codemirror_mode": {
    "name": "ipython",
    "version": 3
   },
   "file_extension": ".py",
   "mimetype": "text/x-python",
   "name": "python",
   "nbconvert_exporter": "python",
   "pygments_lexer": "ipython3",
   "version": "3.9.12"
  }
 },
 "nbformat": 4,
 "nbformat_minor": 5
}
